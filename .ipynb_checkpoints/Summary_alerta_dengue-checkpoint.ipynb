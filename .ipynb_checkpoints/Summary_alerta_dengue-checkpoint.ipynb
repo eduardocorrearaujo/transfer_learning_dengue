{
 "cells": [
  {
   "cell_type": "markdown",
   "id": "339b78f8",
   "metadata": {},
   "source": [
    "### OBS: I need to use numpy==1.19.5 to tensorflow work in my machine"
   ]
  },
  {
   "cell_type": "code",
   "execution_count": 30,
   "id": "f6b881a2-b51a-4714-b4de-c39d94c6113e",
   "metadata": {
    "execution": {
     "iopub.execute_input": "2022-02-13T12:38:41.928465Z",
     "iopub.status.busy": "2022-02-13T12:38:41.928217Z",
     "iopub.status.idle": "2022-02-13T12:38:47.495012Z",
     "shell.execute_reply": "2022-02-13T12:38:47.494303Z",
     "shell.execute_reply.started": "2022-02-13T12:38:41.928438Z"
    }
   },
   "outputs": [],
   "source": [
    "from matplotlib import pyplot as P\n",
    "import pandas as pd\n",
    "import numpy as np\n",
    "from sklearn.preprocessing import normalize\n",
    "import tensorflow.keras as  keras\n",
    "from tensorflow.keras.layers import Dense, Activation, Dropout, Bidirectional\n",
    "from tensorflow.keras.layers import LSTM\n",
    "from tensorflow.keras.models import Sequential\n",
    "from tensorflow.keras.utils import plot_model\n",
    "from tensorflow.keras.callbacks import TensorBoard, EarlyStopping\n",
    "from tensorflow.keras import backend as K\n",
    "from time import time\n",
    "from sklearn.metrics import *"
   ]
  },
  {
   "cell_type": "code",
   "execution_count": 31,
   "id": "764266f3-2c5a-498e-a4d9-1d766815d459",
   "metadata": {
    "execution": {
     "iopub.execute_input": "2022-02-13T12:38:47.496576Z",
     "iopub.status.busy": "2022-02-13T12:38:47.496216Z",
     "iopub.status.idle": "2022-02-13T12:38:47.505480Z",
     "shell.execute_reply": "2022-02-13T12:38:47.504631Z",
     "shell.execute_reply.started": "2022-02-13T12:38:47.496542Z"
    }
   },
   "outputs": [],
   "source": [
    "def split_data(df, look_back=12, ratio=0.8, predict_n=5, Y_column=0):\n",
    "    \"\"\"\n",
    "    Split the data into training and test sets\n",
    "    Keras expects the input tensor to have a shape of (nb_samples, timesteps, features).\n",
    "    :param df: Pandas dataframe with the data.\n",
    "    :param look_back: Number of weeks to look back before predicting\n",
    "    :param ratio: fraction of total samples to use for training\n",
    "    :param predict_n: number of weeks to predict\n",
    "    :param Y_column: Column to predict\n",
    "    :return:\n",
    "    \"\"\"\n",
    "    df = np.nan_to_num(df.values).astype(\"float64\")\n",
    "    # n_ts is the number of training samples also number of training sets\n",
    "    # since windows have an overlap of n-1\n",
    "    n_ts = df.shape[0] - look_back - predict_n + 1\n",
    "    # data = np.empty((n_ts, look_back + predict_n, df.shape[1]))\n",
    "    data = np.empty((n_ts, look_back + predict_n, df.shape[1]))\n",
    "    for i in range(n_ts):  # - predict_):\n",
    "        #         print(i, df[i: look_back+i+predict_n,0])\n",
    "        data[i, :, :] = df[i: look_back + i + predict_n, :]\n",
    "    # train_size = int(n_ts * ratio)\n",
    "    train_size = int(df.shape[0] * ratio) - look_back\n",
    "    print(train_size)\n",
    "\n",
    "    # We are predicting only column 0\n",
    "    X_train = data[:train_size, :look_back, :]\n",
    "    Y_train = data[:train_size, look_back:, Y_column]\n",
    "    X_test = data[train_size:, :look_back, :]\n",
    "    Y_test = data[train_size:, look_back:, Y_column]\n",
    "\n",
    "    return X_train, Y_train, X_test, Y_test\n",
    "\n",
    "\n",
    "def normalize_data(df, log_transform=False):\n",
    "    \"\"\"\n",
    "    Normalize features in the example table\n",
    "    :param df:\n",
    "    :return:\n",
    "    \"\"\"\n",
    "\n",
    "    if 'municipio_geocodigo' in df.columns:\n",
    "        df.pop('municipio_geocodigo')\n",
    "\n",
    "    for col in df.columns:\n",
    "        if col.startswith('nivel'):\n",
    "            # print(col)\n",
    "            le = LabelEncoder()\n",
    "            le.fit(df[col])\n",
    "            df[col] = le.transform(df[col])\n",
    "    df.fillna(0, inplace=True)\n",
    "    norm = normalize(df, norm='max', axis=0)\n",
    "    if log_transform==True:\n",
    "        norm = np.log(norm)\n",
    "    df_norm = pd.DataFrame(norm, columns=df.columns)\n",
    "\n",
    "    return df_norm, df.max(axis=0)"
   ]
  },
  {
   "cell_type": "code",
   "execution_count": 3,
   "id": "f29eb059-e265-4213-88ce-22cc73b9f819",
   "metadata": {
    "execution": {
     "iopub.execute_input": "2022-02-13T12:52:17.025582Z",
     "iopub.status.busy": "2022-02-13T12:52:17.025276Z",
     "iopub.status.idle": "2022-02-13T12:52:17.043078Z",
     "shell.execute_reply": "2022-02-13T12:52:17.042333Z",
     "shell.execute_reply.started": "2022-02-13T12:52:17.025556Z"
    },
    "tags": []
   },
   "outputs": [],
   "source": [
    "def build_model(hidden, features, predict_n, look_back=10, batch_size=1):\n",
    "    \"\"\"\n",
    "    Builds and returns the LSTM model with the parameters given\n",
    "    :param hidden: number of hidden nodes\n",
    "    :param features: number of variables in the example table\n",
    "    :param look_back: Number of time-steps to look back before predicting\n",
    "    :param batch_size: batch size for batch training\n",
    "    :return:\n",
    "    \"\"\"\n",
    "    inp = keras.Input(\n",
    "        shape=(look_back, features),\n",
    "        # batch_shape=(batch_size, look_back, features)\n",
    "    )\n",
    "    x = LSTM(\n",
    "        hidden,\n",
    "        input_shape=(look_back, features),\n",
    "        stateful=False,\n",
    "        batch_input_shape=(batch_size, look_back, features),\n",
    "        return_sequences=True,\n",
    "        # activation='relu',\n",
    "        dropout=0.1,\n",
    "        recurrent_dropout=0.1,\n",
    "        implementation=2,\n",
    "        unit_forget_bias=True,\n",
    "    )(inp, training=True)\n",
    "    x = Dropout(0.2)(x, training=True)\n",
    "    x = LSTM(\n",
    "        hidden,\n",
    "        input_shape=(look_back, features),\n",
    "        stateful=False,\n",
    "        batch_input_shape=(batch_size, look_back, features),\n",
    "        return_sequences=True,\n",
    "        # activation='relu',\n",
    "        dropout=0.1,\n",
    "        recurrent_dropout=0.1,\n",
    "        implementation=2,\n",
    "        unit_forget_bias=True,\n",
    "    )(x, training=True)\n",
    "    x = Dropout(0.2)(x, training=True)\n",
    "    x = LSTM(\n",
    "        hidden,\n",
    "        input_shape=(look_back, features),\n",
    "        stateful=False,\n",
    "        batch_input_shape=(batch_size, look_back, features),\n",
    "        return_sequences=True,\n",
    "        # activation='relu',\n",
    "        dropout=0.1,\n",
    "        recurrent_dropout=0.1,\n",
    "        implementation=2,\n",
    "        unit_forget_bias=True,\n",
    "    )(x, training=True)\n",
    "    x = Dropout(0.2)(x, training=True)\n",
    "    x = LSTM(\n",
    "        hidden,\n",
    "        input_shape=(look_back, features),\n",
    "        stateful=False,\n",
    "        return_sequences=False,\n",
    "        batch_input_shape=(batch_size, look_back, features),\n",
    "        # activation='relu',\n",
    "        dropout=0.1,\n",
    "        recurrent_dropout=0.1,\n",
    "        implementation=2,\n",
    "        unit_forget_bias=True,\n",
    "    )(x, training=True)\n",
    "    x = Dropout(0.2)(x, training=True)\n",
    "    out = Dense(\n",
    "        predict_n,\n",
    "        activation=\"relu\",\n",
    "        kernel_initializer=\"random_uniform\",\n",
    "        bias_initializer=\"zeros\",\n",
    "    )(x)\n",
    "    model = keras.Model(inp, out)\n",
    "\n",
    "    start = time()\n",
    "    model.compile(loss=\"msle\", optimizer=\"adam\", metrics=[\"accuracy\", \"mape\", \"mse\"])\n",
    "    print(\"Compilation Time : \", time() - start)\n",
    "    plot_model(model, to_file=\"LSTM_model.png\")\n",
    "    print(model.summary())\n",
    "    return model\n",
    "\n",
    "def transf_model(hidden, features, predict_n, look_back=10, batch_size=1, filename = 'trained_2312908_model_dengue.h5' ):\n",
    "    \"\"\"\n",
    "    Builds and returns the LSTM model with the parameters given\n",
    "    :param hidden: number of hidden nodes\n",
    "    :param features: number of variables in the example table\n",
    "    :param look_back: Number of time-steps to look back before predicting\n",
    "    :param batch_size: batch size for batch training\n",
    "    :return:\n",
    "    \"\"\"\n",
    "    # get the model trained with the dengue data \n",
    "    base_model = keras.models.load_model(filename)\n",
    "    setattr(base_model.get_layer('lstm_7'), 'return_sequences', True)\n",
    "    \n",
    "    inp = keras.Input(\n",
    "        shape=(look_back, features),\n",
    "        # batch_shape=(batch_size, look_back, features)\n",
    "    )\n",
    "\n",
    "\n",
    "    x = base_model.get_layer('lstm_4')(inp, training=False)\n",
    "    x = base_model.get_layer('dropout_4')(x, training=False)\n",
    "    x = base_model.get_layer('lstm_5')(x, training=False)\n",
    "    x = base_model.get_layer('dropout_5')(x, training=False)\n",
    "    x = base_model.get_layer('lstm_6')(x, training=False)\n",
    "    x = base_model.get_layer('dropout_6')(x, training=False)\n",
    "    x = base_model.get_layer('lstm_7')(x,training=False)\n",
    "    x = base_model.get_layer('dropout_7')(x, training=False)\n",
    "    #x = base_model.get_layer('dense_1')(x, training=False)\n",
    "\n",
    "    # new layer \n",
    "\n",
    "    x = Bidirectional(LSTM(\n",
    "        hidden,\n",
    "        input_shape=(look_back, features),\n",
    "        stateful=False,\n",
    "        batch_input_shape=(batch_size, look_back, features),\n",
    "        # activation='relu',\n",
    "        dropout=0.1,\n",
    "        recurrent_dropout=0.1,\n",
    "        implementation=2,\n",
    "        unit_forget_bias=True,\n",
    "    ), merge_mode = 'ave')(x, training=True)\n",
    "    x = Dropout(0.2)(x, training=True)\n",
    "    out = Dense(\n",
    "        predict_n,\n",
    "        activation=\"relu\",\n",
    "        kernel_initializer=\"random_uniform\",\n",
    "        bias_initializer=\"zeros\",\n",
    "    )(x, training=True)\n",
    "    \n",
    "    model = keras.Model(inp, out)\n",
    "    \n",
    "    start = time()\n",
    "    #opt = keras.optimizers.Adam(learning_rate=0.0001)\n",
    "    model.compile(loss=\"msle\", optimizer= 'Adam', metrics=[\"accuracy\", \"mape\", \"mse\"])\n",
    "    print(\"Compilation Time : \", time() - start)\n",
    "    #plot_model(model, to_file=\"LSTM_model.png\")\n",
    "    #print(model.summary())\n",
    "    return model \n",
    "\n",
    "def train(doenca, model, X_train, Y_train, batch_size=1, epochs=10, geocode=None, overwrite=True):\n",
    "    TB_callback = TensorBoard(\n",
    "        log_dir=\"./tensorboard\",\n",
    "        histogram_freq=0,\n",
    "        write_graph=True,\n",
    "        write_images=True,\n",
    "        # embeddings_freq=10\n",
    "    )\n",
    "\n",
    "    hist = model.fit(\n",
    "        X_train,\n",
    "        Y_train,\n",
    "        batch_size=batch_size,\n",
    "        epochs=epochs,\n",
    "        validation_split=0.15,\n",
    "        verbose=0,\n",
    "        callbacks=[TB_callback, EarlyStopping(patience=15)]\n",
    "    )\n",
    "    \n",
    "    model.save(f\"trained_{geocode}_model_{doenca}.h5\", overwrite=overwrite)\n",
    "    return hist\n",
    "\n",
    "def evaluate(model, Xdata, Ydata, uncertainty=True):\n",
    "    if uncertainty:\n",
    "        predicted = np.stack([model.predict(Xdata, batch_size=1, verbose=0) for i in range(100)], axis=2)\n",
    "    else:\n",
    "        predicted = model.predict(Xdata, batch_size=1, verbose=0)\n",
    "    return predicted"
   ]
  },
  {
   "cell_type": "code",
   "execution_count": 4,
   "id": "ab5bd8a1-9e28-4d9a-95bc-481efd8f8bc3",
   "metadata": {
    "execution": {
     "iopub.execute_input": "2022-02-13T12:38:47.524433Z",
     "iopub.status.busy": "2022-02-13T12:38:47.524196Z",
     "iopub.status.idle": "2022-02-13T12:38:47.532464Z",
     "shell.execute_reply": "2022-02-13T12:38:47.531972Z",
     "shell.execute_reply.started": "2022-02-13T12:38:47.524412Z"
    }
   },
   "outputs": [],
   "source": [
    "def plot_predicted_vs_data(predicted, Ydata, indice, label, pred_window, factor, split_point=None, uncertainty=False):\n",
    "    \"\"\"\n",
    "    Plot the model's predictions against data\n",
    "    :param predicted: model predictions\n",
    "    :param Ydata: observed data\n",
    "    :param indice:\n",
    "    :param label: Name of the locality of the predictions\n",
    "    :param pred_window:\n",
    "    :param factor: Normalizing factor for the target variable\n",
    "    \"\"\"\n",
    "\n",
    "    P.clf()\n",
    "    if len(predicted.shape) == 2:\n",
    "        df_predicted = pd.DataFrame(predicted).T\n",
    "        df_predicted25 = None\n",
    "    else:\n",
    "        df_predicted = pd.DataFrame(np.percentile(predicted, 50, axis=2))\n",
    "        df_predicted25 = pd.DataFrame(np.percentile(predicted, 2.5, axis=2))\n",
    "        df_predicted975 = pd.DataFrame(np.percentile(predicted, 97.5, axis=2))\n",
    "        uncertainty = True\n",
    "    ymax = max(predicted.max() * factor, Ydata.max() * factor)\n",
    "    P.vlines(indice[split_point], 0, ymax, \"g\", \"dashdot\", lw=2)\n",
    "    P.text(indice[split_point + 2], 0.6 * ymax, \"Out of sample Predictions\")\n",
    "    # plot only the last (furthest) prediction point\n",
    "    P.plot(indice[len(indice)-Ydata.shape[0]:], Ydata[:, -1] * factor, 'k-', alpha=0.7, label='data')\n",
    "    P.plot(indice[len(indice)-Ydata.shape[0]:], df_predicted.iloc[:,-1] * factor, 'r-', alpha=0.5, label='median')\n",
    "    if uncertainty:\n",
    "        P.fill_between(indice[7:], df_predicted25[df_predicted25.columns[-1]] * factor,\n",
    "                       df_predicted975[df_predicted975.columns[-1]] * factor,\n",
    "                       color='b', alpha=0.3)\n",
    "\n",
    "    # plot all predicted points\n",
    "    # P.plot(indice[pred_window:], pd.DataFrame(Ydata)[7] * factor, 'k-')\n",
    "    # for n in range(df_predicted.shape[1] - pred_window):\n",
    "    #     P.plot(\n",
    "    #         indice[n: n + pred_window],\n",
    "    #         pd.DataFrame(Ydata.T)[n] * factor,\n",
    "    #         \"k-\",\n",
    "    #         alpha=0.7,\n",
    "    #     )\n",
    "    #     P.plot(indice[n: n + pred_window], df_predicted[n] * factor, \"r-\")\n",
    "    #     try:\n",
    "    #         P.vlines(\n",
    "    #             indice[n + pred_window],\n",
    "    #             0,\n",
    "    #             df_predicted[n].values[-1] * factor,\n",
    "    #             \"b\",\n",
    "    #             alpha=0.2,\n",
    "    #         )\n",
    "    #     except IndexError as e:\n",
    "    #         print(indice.shape, n, df_predicted.shape)\n",
    "    tag = '_unc' if uncertainty else ''\n",
    "    P.grid()\n",
    "    P.title(\"Predictions for {}\".format(label))\n",
    "    P.xlabel(\"time\")\n",
    "    P.ylabel(\"incidence\")\n",
    "    P.xticks(rotation=70)\n",
    "    P.legend([\"data\", \"predicted\"])\n",
    "    P.show()"
   ]
  },
  {
   "cell_type": "code",
   "execution_count": 5,
   "id": "1084f234-7df1-4df2-ba28-1f6c9f8e1205",
   "metadata": {
    "execution": {
     "iopub.execute_input": "2022-02-13T12:38:47.533394Z",
     "iopub.status.busy": "2022-02-13T12:38:47.533208Z",
     "iopub.status.idle": "2022-02-13T12:38:47.539631Z",
     "shell.execute_reply": "2022-02-13T12:38:47.539148Z",
     "shell.execute_reply.started": "2022-02-13T12:38:47.533374Z"
    }
   },
   "outputs": [],
   "source": [
    "def plot_transf_predicted_vs_data(predicted_t, predicted, Ydata, indice, label, pred_window, factor, split_point=None, uncertainty=False):\n",
    "    \"\"\"\n",
    "    Plot the model's predictions against data\n",
    "    :param predicted: model predictions\n",
    "    :param Ydata: observed data\n",
    "    :param indice:\n",
    "    :param label: Name of the locality of the predictions\n",
    "    :param pred_window:\n",
    "    :param factor: Normalizing factor for the target variable\n",
    "    \"\"\"\n",
    "\n",
    "    P.clf()\n",
    "    df_predicted_t = pd.DataFrame(np.percentile(predicted_t, 50, axis = 2))\n",
    "    df_predicted = pd.DataFrame(np.percentile(predicted, 50, axis=2))\n",
    "        \n",
    "    uncertainty = True\n",
    "    #ymax = max(predicted.max() * factor, Ydata.max() * factor)\n",
    "    #P.vlines(indice[split_point], 0, ymax, \"g\", \"dashdot\", lw=2)\n",
    "    #P.text(indice[split_point + 2], 0.6 * ymax, \"Out of sample Predictions\")\n",
    "    # plot only the last (furthest) prediction point\n",
    "    P.plot(indice[len(indice)-Ydata.shape[0]:], Ydata[:, -1] * factor, 'k-', alpha=0.7, label='data')\n",
    "    P.plot(indice[len(indice)-Ydata.shape[0]:], df_predicted.iloc[:,-1] * factor, 'r-', alpha=0.5, label='chik model')\n",
    "    P.plot(indice[len(indice)-Ydata.shape[0]:], df_predicted_t.iloc[:,-1] * factor, 'g-', alpha=0.5, label='transf. model')\n",
    "   \n",
    "                                  \n",
    "    tag = '_unc' if uncertainty else ''\n",
    "    P.grid()\n",
    "    P.title(\"Predictions for {}\".format(label))\n",
    "    P.xlabel(\"time\")\n",
    "    P.ylabel(\"incidence\")\n",
    "    P.xticks(rotation=70)\n",
    "    P.legend()\n",
    "    P.show()"
   ]
  },
  {
   "cell_type": "markdown",
   "id": "8e8385da-3ad7-4a89-9dae-19d964ef9088",
   "metadata": {},
   "source": [
    "### Getting the data of dengue to train the model "
   ]
  },
  {
   "cell_type": "code",
   "execution_count": 6,
   "id": "ac104ada-e9b4-46bb-a36c-d41650b76d4e",
   "metadata": {
    "execution": {
     "iopub.execute_input": "2022-02-13T12:38:47.540574Z",
     "iopub.status.busy": "2022-02-13T12:38:47.540387Z",
     "iopub.status.idle": "2022-02-13T12:38:47.546304Z",
     "shell.execute_reply": "2022-02-13T12:38:47.545729Z",
     "shell.execute_reply.started": "2022-02-13T12:38:47.540555Z"
    }
   },
   "outputs": [],
   "source": [
    "def get_dengue_data(city, end_date = '2016-12-31', file = 'data_dengue.csv'): \n",
    "    data_dengue = pd.read_csv(file)\n",
    "    data_dengue.set_index('Unnamed: 0', inplace = True)\n",
    "    data_dengue.index.name = 'data'\n",
    "    data_dengue.index = pd.to_datetime(data_dengue.index) \n",
    "\n",
    "    target_col = list(data_dengue.columns).index(\"casos_est_{}\".format(city))\n",
    "\n",
    "    # definindo o período de treino apenas\n",
    "    data_dengue = data_dengue.loc[:end_date]\n",
    "\n",
    "    norm_data_dengue, max_features = normalize_data(data_dengue)\n",
    "    factor_dengue = max_features[target_col]\n",
    "\n",
    "    ##split test and train\n",
    "    X_train, Y_train, X_test, Y_test = split_data(\n",
    "            norm_data_dengue,\n",
    "            look_back=4,\n",
    "            ratio=1,\n",
    "            predict_n=4,\n",
    "            Y_column=target_col,\n",
    "    )\n",
    "    \n",
    "    return data_dengue,factor_dengue,  X_train, Y_train"
   ]
  },
  {
   "cell_type": "markdown",
   "id": "55b5744c-39d5-42eb-9201-c8b241921cf3",
   "metadata": {},
   "source": [
    "### Getting the data of chickunguya "
   ]
  },
  {
   "cell_type": "code",
   "execution_count": 7,
   "id": "2c85e1aa-f926-4787-85bf-80589c6e0ee7",
   "metadata": {
    "execution": {
     "iopub.execute_input": "2022-02-13T12:38:47.547155Z",
     "iopub.status.busy": "2022-02-13T12:38:47.547007Z",
     "iopub.status.idle": "2022-02-13T12:38:47.552096Z",
     "shell.execute_reply": "2022-02-13T12:38:47.551600Z",
     "shell.execute_reply.started": "2022-02-13T12:38:47.547137Z"
    }
   },
   "outputs": [],
   "source": [
    "def get_chik_data(city, ini_date = '2016-01-01', end_date= '2017-12-31', filename = 'data_chik.csv'):\n",
    "    data_chik = pd.read_csv(filename)\n",
    "    data_chik.set_index('Unnamed: 0', inplace = True)\n",
    "    data_chik.index.name = 'data'\n",
    "    data_chik.index = pd.to_datetime(data_chik.index) \n",
    "    \n",
    "    target_col = list(data_chik.columns).index(\"casos_est_{}\".format(city))\n",
    "\n",
    "    data_chik = data_chik.loc[ini_date:end_date] \n",
    "\n",
    "    norm_data_chik, max_features = normalize_data(data_chik)\n",
    "    factor_chik = max_features[target_col]\n",
    "\n",
    "    X_train_chik, Y_train_chik, X_test_chik, Y_test_chik = split_data(\n",
    "            norm_data_chik,\n",
    "            look_back=4,\n",
    "            ratio=0.5,\n",
    "            predict_n=4,\n",
    "            Y_column=target_col,\n",
    "    )\n",
    "    \n",
    "    return data_chik, factor_chik, X_train_chik, Y_train_chik, X_test_chik, Y_test_chik"
   ]
  },
  {
   "cell_type": "code",
   "execution_count": 8,
   "id": "5f709b17-4db1-4ca8-bdc1-c5d75d626801",
   "metadata": {
    "execution": {
     "iopub.execute_input": "2022-02-13T12:38:47.552984Z",
     "iopub.status.busy": "2022-02-13T12:38:47.552788Z",
     "iopub.status.idle": "2022-02-13T12:38:47.557251Z",
     "shell.execute_reply": "2022-02-13T12:38:47.556526Z",
     "shell.execute_reply.started": "2022-02-13T12:38:47.552964Z"
    }
   },
   "outputs": [],
   "source": [
    "city = 2312908 # Sobral\n",
    "state = 'CE'"
   ]
  },
  {
   "cell_type": "markdown",
   "id": "d028eacf-b18d-43e2-9c79-21777c73fe9a",
   "metadata": {},
   "source": [
    "### Applying the model "
   ]
  },
  {
   "cell_type": "markdown",
   "id": "9568cd1c-c1df-423d-9d85-597ac2cba6ab",
   "metadata": {},
   "source": [
    "#### Getting the data"
   ]
  },
  {
   "cell_type": "code",
   "execution_count": 9,
   "id": "752d53e7-213f-4226-8993-4168fd0e5db9",
   "metadata": {
    "execution": {
     "iopub.execute_input": "2022-02-13T12:38:47.558471Z",
     "iopub.status.busy": "2022-02-13T12:38:47.558168Z",
     "iopub.status.idle": "2022-02-13T12:38:47.588788Z",
     "shell.execute_reply": "2022-02-13T12:38:47.588231Z",
     "shell.execute_reply.started": "2022-02-13T12:38:47.558445Z"
    }
   },
   "outputs": [
    {
     "name": "stdout",
     "output_type": "stream",
     "text": [
      "48\n"
     ]
    },
    {
     "data": {
      "text/plain": [
       "'2016-12-04'"
      ]
     },
     "execution_count": 9,
     "metadata": {},
     "output_type": "execute_result"
    }
   ],
   "source": [
    "data_chik,factor_chik,  X_train_chik, Y_train_chik, X_pred, Y_pred = get_chik_data(city, ini_date = '2016-01-01', end_date= '2017-12-31', filename = f'data_chik_{city}_{state}.csv')\n",
    "\n",
    "\n",
    "data_chik.index[len(X_train_chik)].strftime('%Y-%m-%d')"
   ]
  },
  {
   "cell_type": "code",
   "execution_count": 10,
   "id": "2cc6a17f-5d60-4ca8-be61-991174a92633",
   "metadata": {
    "execution": {
     "iopub.execute_input": "2022-02-13T12:38:47.590234Z",
     "iopub.status.busy": "2022-02-13T12:38:47.589730Z",
     "iopub.status.idle": "2022-02-13T12:38:47.606439Z",
     "shell.execute_reply": "2022-02-13T12:38:47.605834Z",
     "shell.execute_reply.started": "2022-02-13T12:38:47.590202Z"
    },
    "scrolled": true
   },
   "outputs": [
    {
     "name": "stdout",
     "output_type": "stream",
     "text": [
      "358\n"
     ]
    }
   ],
   "source": [
    "data_dengue, factor_degue, X_train, Y_train = get_dengue_data(city, end_date = data_chik.index[len(X_train_chik)].strftime('%Y-%m-%d'), file = f'data_dengue_{city}_{state}.csv')\n"
   ]
  },
  {
   "cell_type": "markdown",
   "id": "987e26ee",
   "metadata": {},
   "source": [
    "#### Training the dengue model "
   ]
  },
  {
   "cell_type": "markdown",
   "id": "78feaebc-1c06-4793-91d4-2d45e99e81da",
   "metadata": {},
   "source": [
    "#### Loading the dengue model \n",
    "\n",
    "In the dengue model I need to use hidden = 12 to improve the performance. "
   ]
  },
  {
   "cell_type": "code",
   "execution_count": 12,
   "id": "61c9e551-2115-4ca5-bb3f-b7b0a45ec643",
   "metadata": {
    "execution": {
     "iopub.execute_input": "2022-02-13T12:39:39.056960Z",
     "iopub.status.busy": "2022-02-13T12:39:39.056652Z",
     "iopub.status.idle": "2022-02-13T12:39:39.671367Z",
     "shell.execute_reply": "2022-02-13T12:39:39.670790Z",
     "shell.execute_reply.started": "2022-02-13T12:39:39.056934Z"
    },
    "tags": []
   },
   "outputs": [
    {
     "name": "stdout",
     "output_type": "stream",
     "text": [
      "CPU times: user 328 ms, sys: 10.6 ms, total: 339 ms\n",
      "Wall time: 337 ms\n"
     ]
    }
   ],
   "source": [
    "%%time\n",
    "model_dengue =  keras.models.load_model(f'trained_{city}_model_dengue.h5')"
   ]
  },
  {
   "cell_type": "code",
   "execution_count": 13,
   "id": "6b98cc66-dce2-4564-9e32-86d52caac93a",
   "metadata": {
    "execution": {
     "iopub.execute_input": "2022-02-13T12:39:45.264510Z",
     "iopub.status.busy": "2022-02-13T12:39:45.264222Z",
     "iopub.status.idle": "2022-02-13T12:39:45.270955Z",
     "shell.execute_reply": "2022-02-13T12:39:45.270242Z",
     "shell.execute_reply.started": "2022-02-13T12:39:45.264487Z"
    }
   },
   "outputs": [
    {
     "name": "stdout",
     "output_type": "stream",
     "text": [
      "Model: \"model_1\"\n",
      "_________________________________________________________________\n",
      "Layer (type)                 Output Shape              Param #   \n",
      "=================================================================\n",
      "input_2 (InputLayer)         [(None, 4, 30)]           0         \n",
      "_________________________________________________________________\n",
      "lstm_4 (LSTM)                (None, 4, 12)             2064      \n",
      "_________________________________________________________________\n",
      "dropout_4 (Dropout)          (None, 4, 12)             0         \n",
      "_________________________________________________________________\n",
      "lstm_5 (LSTM)                (None, 4, 12)             1200      \n",
      "_________________________________________________________________\n",
      "dropout_5 (Dropout)          (None, 4, 12)             0         \n",
      "_________________________________________________________________\n",
      "lstm_6 (LSTM)                (None, 4, 12)             1200      \n",
      "_________________________________________________________________\n",
      "dropout_6 (Dropout)          (None, 4, 12)             0         \n",
      "_________________________________________________________________\n",
      "lstm_7 (LSTM)                (None, 12)                1200      \n",
      "_________________________________________________________________\n",
      "dropout_7 (Dropout)          (None, 12)                0         \n",
      "_________________________________________________________________\n",
      "dense_1 (Dense)              (None, 4)                 52        \n",
      "=================================================================\n",
      "Total params: 5,716\n",
      "Trainable params: 5,716\n",
      "Non-trainable params: 0\n",
      "_________________________________________________________________\n"
     ]
    }
   ],
   "source": [
    "model_dengue.summary()"
   ]
  },
  {
   "cell_type": "code",
   "execution_count": 14,
   "id": "e4de393e-61aa-4c9e-b4d4-369808e2d6ab",
   "metadata": {
    "execution": {
     "iopub.execute_input": "2022-02-13T12:40:22.334801Z",
     "iopub.status.busy": "2022-02-13T12:40:22.334480Z",
     "iopub.status.idle": "2022-02-13T12:44:13.001117Z",
     "shell.execute_reply": "2022-02-13T12:44:13.000370Z",
     "shell.execute_reply.started": "2022-02-13T12:40:22.334774Z"
    }
   },
   "outputs": [
    {
     "name": "stderr",
     "output_type": "stream",
     "text": [
      "2022-02-13 11:37:00.816851: I tensorflow/compiler/mlir/mlir_graph_optimization_pass.cc:116] None of the MLIR optimization passes are enabled (registered 2)\n"
     ]
    }
   ],
   "source": [
    "predicted_dengue = np.stack([model_dengue.predict(X_train, batch_size=1, verbose=0) for i in range(100)], axis=2)"
   ]
  },
  {
   "cell_type": "code",
   "execution_count": 15,
   "id": "ba56aff7-9e4c-4966-a39a-e599e27c3d3d",
   "metadata": {
    "execution": {
     "iopub.execute_input": "2022-02-13T12:44:13.002500Z",
     "iopub.status.busy": "2022-02-13T12:44:13.002274Z",
     "iopub.status.idle": "2022-02-13T12:44:13.244111Z",
     "shell.execute_reply": "2022-02-13T12:44:13.243502Z",
     "shell.execute_reply.started": "2022-02-13T12:44:13.002478Z"
    }
   },
   "outputs": [
    {
     "data": {
      "image/png": "[encoded data removed]",
      "text/plain": [
       "<Figure size 432x288 with 1 Axes>"
      ]
     },
     "metadata": {
      "needs_background": "light"
     },
     "output_type": "display_data"
    }
   ],
   "source": [
    "indice = list(data_dengue.index)\n",
    "indice = [i.date() for i in indice]\n",
    "\n",
    "plot_predicted_vs_data(predicted_dengue, Y_train, indice, 'Sobral', 4, factor_degue, split_point=len(Y_train), uncertainty= True)   "
   ]
  },
  {
   "cell_type": "markdown",
   "id": "353575cc-f2f6-4ddd-8eb1-1d01bd05a152",
   "metadata": {},
   "source": [
    "#### Transfer learning "
   ]
  },
  {
   "cell_type": "markdown",
   "id": "ec549c02-2fd1-4afd-bb40-86899ba3daec",
   "metadata": {},
   "source": [
    "##### Just apply the dengue model (it's not transfer learning)"
   ]
  },
  {
   "cell_type": "code",
   "execution_count": 16,
   "id": "a1a31f98-faad-4847-b288-69205c9952f6",
   "metadata": {
    "execution": {
     "iopub.execute_input": "2022-02-13T12:44:35.971818Z",
     "iopub.status.busy": "2022-02-13T12:44:35.971532Z",
     "iopub.status.idle": "2022-02-13T12:45:43.448821Z",
     "shell.execute_reply": "2022-02-13T12:45:43.448289Z",
     "shell.execute_reply.started": "2022-02-13T12:44:35.971795Z"
    },
    "tags": []
   },
   "outputs": [],
   "source": [
    "predicted_in_1 = evaluate(model_dengue, X_train_chik, Y_train_chik)\n",
    "predicted_out_1 = evaluate(model_dengue, X_pred, Y_pred)\n",
    "\n",
    "predicted_chik_1 = np.concatenate((predicted_in_1, predicted_out_1), axis=0)"
   ]
  },
  {
   "cell_type": "code",
   "execution_count": 17,
   "id": "7be71e19-c4ac-469e-8377-47bf2ef3231e",
   "metadata": {
    "execution": {
     "iopub.execute_input": "2022-02-13T12:45:43.450098Z",
     "iopub.status.busy": "2022-02-13T12:45:43.449859Z",
     "iopub.status.idle": "2022-02-13T12:45:43.625008Z",
     "shell.execute_reply": "2022-02-13T12:45:43.624476Z",
     "shell.execute_reply.started": "2022-02-13T12:45:43.450076Z"
    }
   },
   "outputs": [
    {
     "data": {
      "image/png": "[encoded data removed]",
      "text/plain": [
       "<Figure size 432x288 with 1 Axes>"
      ]
     },
     "metadata": {
      "needs_background": "light"
     },
     "output_type": "display_data"
    }
   ],
   "source": [
    "indice = list(data_chik.index)\n",
    "indice = [i.date() for i in indice]\n",
    "\n",
    "plot_predicted_vs_data(predicted_chik_1, np.concatenate((Y_train_chik, Y_pred), axis=0), indice, 'Sobral', 4, factor_chik, split_point=len(Y_train_chik), uncertainty= True)"
   ]
  },
  {
   "cell_type": "markdown",
   "id": "df49aff9-7a5a-4646-8a7c-c123645101cb",
   "metadata": {},
   "source": [
    "##### Update the dengue model with the chik data"
   ]
  },
  {
   "cell_type": "code",
   "execution_count": 18,
   "id": "2fd489e5-1d65-4958-8d78-d5aed11f2750",
   "metadata": {
    "execution": {
     "iopub.execute_input": "2022-02-13T12:47:13.543899Z",
     "iopub.status.busy": "2022-02-13T12:47:13.543604Z",
     "iopub.status.idle": "2022-02-13T12:47:36.100367Z",
     "shell.execute_reply": "2022-02-13T12:47:36.099817Z",
     "shell.execute_reply.started": "2022-02-13T12:47:13.543875Z"
    },
    "tags": []
   },
   "outputs": [
    {
     "name": "stderr",
     "output_type": "stream",
     "text": [
      "2022-02-13 11:38:07.620174: I tensorflow/core/profiler/lib/profiler_session.cc:136] Profiler session initializing.\n",
      "2022-02-13 11:38:07.620186: I tensorflow/core/profiler/lib/profiler_session.cc:155] Profiler session started.\n",
      "2022-02-13 11:38:07.620579: I tensorflow/core/profiler/lib/profiler_session.cc:172] Profiler session tear down.\n",
      "2022-02-13 11:38:09.385695: I tensorflow/core/profiler/lib/profiler_session.cc:136] Profiler session initializing.\n",
      "2022-02-13 11:38:09.385711: I tensorflow/core/profiler/lib/profiler_session.cc:155] Profiler session started.\n",
      "2022-02-13 11:38:09.391440: I tensorflow/core/profiler/lib/profiler_session.cc:71] Profiler session collecting data.\n",
      "2022-02-13 11:38:09.416088: I tensorflow/core/profiler/lib/profiler_session.cc:172] Profiler session tear down.\n",
      "2022-02-13 11:38:09.438971: I tensorflow/core/profiler/rpc/client/save_profile.cc:137] Creating directory: ./tensorboard/train/plugins/profile/2022_02_13_11_38_09\n",
      "2022-02-13 11:38:09.445600: I tensorflow/core/profiler/rpc/client/save_profile.cc:143] Dumped gzipped tool data for trace.json.gz to ./tensorboard/train/plugins/profile/2022_02_13_11_38_09/Eduardos-MacBook-Air.local.trace.json.gz\n",
      "2022-02-13 11:38:09.465533: I tensorflow/core/profiler/rpc/client/save_profile.cc:137] Creating directory: ./tensorboard/train/plugins/profile/2022_02_13_11_38_09\n",
      "2022-02-13 11:38:09.465670: I tensorflow/core/profiler/rpc/client/save_profile.cc:143] Dumped gzipped tool data for memory_profile.json.gz to ./tensorboard/train/plugins/profile/2022_02_13_11_38_09/Eduardos-MacBook-Air.local.memory_profile.json.gz\n",
      "2022-02-13 11:38:09.467013: I tensorflow/core/profiler/rpc/client/capture_profile.cc:251] Creating directory: ./tensorboard/train/plugins/profile/2022_02_13_11_38_09Dumped tool data for xplane.pb to ./tensorboard/train/plugins/profile/2022_02_13_11_38_09/Eduardos-MacBook-Air.local.xplane.pb\n",
      "Dumped tool data for overview_page.pb to ./tensorboard/train/plugins/profile/2022_02_13_11_38_09/Eduardos-MacBook-Air.local.overview_page.pb\n",
      "Dumped tool data for input_pipeline.pb to ./tensorboard/train/plugins/profile/2022_02_13_11_38_09/Eduardos-MacBook-Air.local.input_pipeline.pb\n",
      "Dumped tool data for tensorflow_stats.pb to ./tensorboard/train/plugins/profile/2022_02_13_11_38_09/Eduardos-MacBook-Air.local.tensorflow_stats.pb\n",
      "Dumped tool data for kernel_stats.pb to ./tensorboard/train/plugins/profile/2022_02_13_11_38_09/Eduardos-MacBook-Air.local.kernel_stats.pb\n",
      "\n"
     ]
    },
    {
     "name": "stdout",
     "output_type": "stream",
     "text": [
      "CPU times: user 10.6 s, sys: 826 ms, total: 11.5 s\n",
      "Wall time: 9.2 s\n"
     ]
    },
    {
     "data": {
      "text/plain": [
       "<tensorflow.python.keras.callbacks.History at 0x179826820>"
      ]
     },
     "execution_count": 18,
     "metadata": {},
     "output_type": "execute_result"
    }
   ],
   "source": [
    "%%time\n",
    "train('chik_upd', model_dengue, X_train_chik, Y_train_chik, batch_size=1, epochs=100, geocode= city, overwrite=True)"
   ]
  },
  {
   "cell_type": "code",
   "execution_count": 19,
   "id": "0f64be43-7a2e-4874-b1dd-3ea767a694c5",
   "metadata": {
    "execution": {
     "iopub.execute_input": "2022-02-13T12:48:50.989843Z",
     "iopub.status.busy": "2022-02-13T12:48:50.989535Z",
     "iopub.status.idle": "2022-02-13T12:48:51.565036Z",
     "shell.execute_reply": "2022-02-13T12:48:51.564514Z",
     "shell.execute_reply.started": "2022-02-13T12:48:50.989817Z"
    }
   },
   "outputs": [],
   "source": [
    "model_upd = keras.models.load_model(f'trained_{city}_model_chik_upd.h5')"
   ]
  },
  {
   "cell_type": "code",
   "execution_count": 20,
   "id": "ee1ab446-33a8-4f0e-a821-64c8eaf6c4d1",
   "metadata": {
    "execution": {
     "iopub.execute_input": "2022-02-13T12:48:51.567007Z",
     "iopub.status.busy": "2022-02-13T12:48:51.566769Z",
     "iopub.status.idle": "2022-02-13T12:50:01.277799Z",
     "shell.execute_reply": "2022-02-13T12:50:01.277255Z",
     "shell.execute_reply.started": "2022-02-13T12:48:51.566984Z"
    }
   },
   "outputs": [],
   "source": [
    "predicted_in_2 = evaluate(model_upd, X_train_chik, Y_train_chik)\n",
    "predicted_out_2 = evaluate(model_upd, X_pred, Y_pred)\n",
    "\n",
    "predicted_chik_2 = np.concatenate((predicted_in_2, predicted_out_2), axis=0)"
   ]
  },
  {
   "cell_type": "code",
   "execution_count": 21,
   "id": "ca54a21a-1c69-4be9-a3db-51cb77e20fa5",
   "metadata": {
    "execution": {
     "iopub.execute_input": "2022-02-13T12:50:01.279649Z",
     "iopub.status.busy": "2022-02-13T12:50:01.279417Z",
     "iopub.status.idle": "2022-02-13T12:50:01.454531Z",
     "shell.execute_reply": "2022-02-13T12:50:01.453939Z",
     "shell.execute_reply.started": "2022-02-13T12:50:01.279627Z"
    }
   },
   "outputs": [
    {
     "data": {
      "image/png": "[encoded data removed]",
      "text/plain": [
       "<Figure size 432x288 with 1 Axes>"
      ]
     },
     "metadata": {
      "needs_background": "light"
     },
     "output_type": "display_data"
    }
   ],
   "source": [
    "indice = list(data_chik.index)\n",
    "indice = [i.date() for i in indice]\n",
    "\n",
    "plot_predicted_vs_data(predicted_chik_2, np.concatenate((Y_train_chik, Y_pred), axis=0), indice, 'Sobral', 4, factor_chik, split_point=len(Y_train_chik), uncertainty= True)"
   ]
  },
  {
   "cell_type": "markdown",
   "id": "009fa7c5-1a4e-4ccf-af14-11d232934ac4",
   "metadata": {},
   "source": [
    "#### Transfer_learning model \n",
    "\n",
    "I add a new bi-lstm layer to the chik data and freeze the other layers of the original dengue model"
   ]
  },
  {
   "cell_type": "code",
   "execution_count": 22,
   "id": "0765d5d4-92cd-4a57-ba39-ca1c17494c6e",
   "metadata": {
    "execution": {
     "iopub.execute_input": "2022-02-13T12:52:29.088399Z",
     "iopub.status.busy": "2022-02-13T12:52:29.088095Z",
     "iopub.status.idle": "2022-02-13T12:53:01.017168Z",
     "shell.execute_reply": "2022-02-13T12:53:01.016491Z",
     "shell.execute_reply.started": "2022-02-13T12:52:29.088374Z"
    },
    "tags": []
   },
   "outputs": [
    {
     "name": "stdout",
     "output_type": "stream",
     "text": [
      "Compilation Time :  0.0029642581939697266\n"
     ]
    },
    {
     "name": "stderr",
     "output_type": "stream",
     "text": [
      "2022-02-13 11:38:34.523760: I tensorflow/core/profiler/lib/profiler_session.cc:136] Profiler session initializing.\n",
      "2022-02-13 11:38:34.523778: I tensorflow/core/profiler/lib/profiler_session.cc:155] Profiler session started.\n",
      "2022-02-13 11:38:34.523795: I tensorflow/core/profiler/lib/profiler_session.cc:172] Profiler session tear down.\n",
      "2022-02-13 11:38:37.934659: I tensorflow/core/profiler/lib/profiler_session.cc:136] Profiler session initializing.\n",
      "2022-02-13 11:38:37.934681: I tensorflow/core/profiler/lib/profiler_session.cc:155] Profiler session started.\n",
      "2022-02-13 11:38:38.085237: I tensorflow/core/profiler/lib/profiler_session.cc:71] Profiler session collecting data.\n",
      "2022-02-13 11:38:38.105572: I tensorflow/core/profiler/lib/profiler_session.cc:172] Profiler session tear down.\n",
      "2022-02-13 11:38:38.121236: I tensorflow/core/profiler/rpc/client/save_profile.cc:137] Creating directory: ./tensorboard/train/plugins/profile/2022_02_13_11_38_38\n",
      "2022-02-13 11:38:38.129910: I tensorflow/core/profiler/rpc/client/save_profile.cc:143] Dumped gzipped tool data for trace.json.gz to ./tensorboard/train/plugins/profile/2022_02_13_11_38_38/Eduardos-MacBook-Air.local.trace.json.gz\n",
      "2022-02-13 11:38:38.145136: I tensorflow/core/profiler/rpc/client/save_profile.cc:137] Creating directory: ./tensorboard/train/plugins/profile/2022_02_13_11_38_38\n",
      "2022-02-13 11:38:38.145287: I tensorflow/core/profiler/rpc/client/save_profile.cc:143] Dumped gzipped tool data for memory_profile.json.gz to ./tensorboard/train/plugins/profile/2022_02_13_11_38_38/Eduardos-MacBook-Air.local.memory_profile.json.gz\n",
      "2022-02-13 11:38:38.146765: I tensorflow/core/profiler/rpc/client/capture_profile.cc:251] Creating directory: ./tensorboard/train/plugins/profile/2022_02_13_11_38_38Dumped tool data for xplane.pb to ./tensorboard/train/plugins/profile/2022_02_13_11_38_38/Eduardos-MacBook-Air.local.xplane.pb\n",
      "Dumped tool data for overview_page.pb to ./tensorboard/train/plugins/profile/2022_02_13_11_38_38/Eduardos-MacBook-Air.local.overview_page.pb\n",
      "Dumped tool data for input_pipeline.pb to ./tensorboard/train/plugins/profile/2022_02_13_11_38_38/Eduardos-MacBook-Air.local.input_pipeline.pb\n",
      "Dumped tool data for tensorflow_stats.pb to ./tensorboard/train/plugins/profile/2022_02_13_11_38_38/Eduardos-MacBook-Air.local.tensorflow_stats.pb\n",
      "Dumped tool data for kernel_stats.pb to ./tensorboard/train/plugins/profile/2022_02_13_11_38_38/Eduardos-MacBook-Air.local.kernel_stats.pb\n",
      "\n"
     ]
    },
    {
     "name": "stdout",
     "output_type": "stream",
     "text": [
      "CPU times: user 13.7 s, sys: 838 ms, total: 14.6 s\n",
      "Wall time: 11.7 s\n"
     ]
    },
    {
     "data": {
      "text/plain": [
       "<tensorflow.python.keras.callbacks.History at 0x17c39eb20>"
      ]
     },
     "execution_count": 22,
     "metadata": {},
     "output_type": "execute_result"
    }
   ],
   "source": [
    "%%time\n",
    "transf_model =  transf_model(4, X_train_chik.shape[2],4, 4, filename = f'trained_{city}_model_dengue.h5' )\n",
    " \n",
    "train('chik_transf', transf_model, X_train_chik, Y_train_chik, batch_size=1, epochs=100, geocode= city, overwrite=True)"
   ]
  },
  {
   "cell_type": "code",
   "execution_count": 25,
   "id": "0d14a524-5ca6-40e8-8ab7-82c939687af1",
   "metadata": {
    "execution": {
     "iopub.execute_input": "2022-02-13T12:53:14.213560Z",
     "iopub.status.busy": "2022-02-13T12:53:14.213261Z",
     "iopub.status.idle": "2022-02-13T12:54:28.502076Z",
     "shell.execute_reply": "2022-02-13T12:54:28.501412Z",
     "shell.execute_reply.started": "2022-02-13T12:53:14.213535Z"
    }
   },
   "outputs": [
    {
     "name": "stdout",
     "output_type": "stream",
     "text": [
      "CPU times: user 19.7 s, sys: 552 ms, total: 20.3 s\n",
      "Wall time: 18.4 s\n"
     ]
    }
   ],
   "source": [
    "%%time\n",
    "model_transf =  keras.models.load_model(f'trained_{city}_model_chik_transf.h5')\n",
    "\n",
    "predicted_in_3 = evaluate(model_transf, X_train_chik, Y_train_chik)\n",
    "predicted_out_3 = evaluate(model_transf, X_pred, Y_pred)\n",
    "\n",
    "predicted_chik_3 = np.concatenate((predicted_in_3, predicted_out_3), axis=0)"
   ]
  },
  {
   "cell_type": "code",
   "execution_count": 26,
   "id": "6ea03b5e-9306-4588-9c41-b0b3835c9ebf",
   "metadata": {
    "execution": {
     "iopub.execute_input": "2022-02-13T12:54:28.508443Z",
     "iopub.status.busy": "2022-02-13T12:54:28.508233Z",
     "iopub.status.idle": "2022-02-13T12:54:28.687272Z",
     "shell.execute_reply": "2022-02-13T12:54:28.686627Z",
     "shell.execute_reply.started": "2022-02-13T12:54:28.508415Z"
    }
   },
   "outputs": [
    {
     "data": {
      "image/png": "[encoded data removed]",
      "text/plain": [
       "<Figure size 432x288 with 1 Axes>"
      ]
     },
     "metadata": {
      "needs_background": "light"
     },
     "output_type": "display_data"
    }
   ],
   "source": [
    "from matplotlib import pyplot as P\n",
    "indice = list(data_chik.index)\n",
    "indice = [i.date() for i in indice]\n",
    "\n",
    "plot_predicted_vs_data(predicted_chik_3,np.concatenate((Y_train_chik, Y_pred), axis=0), indice, 'Sobral - transf model', 4, factor_chik, split_point=len(Y_train_chik), uncertainty= True)\n"
   ]
  },
  {
   "cell_type": "markdown",
   "id": "5901aefa-4ead-4373-a183-b11b79c58005",
   "metadata": {},
   "source": [
    "##### Training a new model with only the chik data"
   ]
  },
  {
   "cell_type": "code",
   "execution_count": 27,
   "id": "1c1ab51c-b26a-40c0-8c23-e503fdcab7d9",
   "metadata": {
    "execution": {
     "iopub.execute_input": "2022-02-13T12:58:59.603983Z",
     "iopub.status.busy": "2022-02-13T12:58:59.603690Z",
     "iopub.status.idle": "2022-02-13T12:59:36.238603Z",
     "shell.execute_reply": "2022-02-13T12:59:36.237908Z",
     "shell.execute_reply.started": "2022-02-13T12:58:59.603958Z"
    },
    "tags": []
   },
   "outputs": [
    {
     "name": "stdout",
     "output_type": "stream",
     "text": [
      "Compilation Time :  0.003058910369873047\n",
      "('Failed to import pydot. You must `pip install pydot` and install graphviz (https://graphviz.gitlab.io/download/), ', 'for `pydotprint` to work.')\n",
      "Model: \"model_1\"\n",
      "_________________________________________________________________\n",
      "Layer (type)                 Output Shape              Param #   \n",
      "=================================================================\n",
      "input_2 (InputLayer)         [(None, 4, 30)]           0         \n",
      "_________________________________________________________________\n",
      "lstm_1 (LSTM)                (None, 4, 12)             2064      \n",
      "_________________________________________________________________\n",
      "dropout_1 (Dropout)          (None, 4, 12)             0         \n",
      "_________________________________________________________________\n",
      "lstm_2 (LSTM)                (None, 4, 12)             1200      \n",
      "_________________________________________________________________\n",
      "dropout_2 (Dropout)          (None, 4, 12)             0         \n",
      "_________________________________________________________________\n",
      "lstm_3 (LSTM)                (None, 4, 12)             1200      \n",
      "_________________________________________________________________\n",
      "dropout_3 (Dropout)          (None, 4, 12)             0         \n",
      "_________________________________________________________________\n",
      "lstm_4 (LSTM)                (None, 12)                1200      \n",
      "_________________________________________________________________\n",
      "dropout_4 (Dropout)          (None, 12)                0         \n",
      "_________________________________________________________________\n",
      "dense_1 (Dense)              (None, 4)                 52        \n",
      "=================================================================\n",
      "Total params: 5,716\n",
      "Trainable params: 5,716\n",
      "Non-trainable params: 0\n",
      "_________________________________________________________________\n",
      "None\n"
     ]
    },
    {
     "name": "stderr",
     "output_type": "stream",
     "text": [
      "2022-02-13 11:40:19.696057: I tensorflow/core/profiler/lib/profiler_session.cc:136] Profiler session initializing.\n",
      "2022-02-13 11:40:19.696071: I tensorflow/core/profiler/lib/profiler_session.cc:155] Profiler session started.\n",
      "2022-02-13 11:40:19.696121: I tensorflow/core/profiler/lib/profiler_session.cc:172] Profiler session tear down.\n",
      "2022-02-13 11:40:22.368397: I tensorflow/core/profiler/lib/profiler_session.cc:136] Profiler session initializing.\n",
      "2022-02-13 11:40:22.368417: I tensorflow/core/profiler/lib/profiler_session.cc:155] Profiler session started.\n",
      "2022-02-13 11:40:22.500489: I tensorflow/core/profiler/lib/profiler_session.cc:71] Profiler session collecting data.\n",
      "2022-02-13 11:40:22.515683: I tensorflow/core/profiler/lib/profiler_session.cc:172] Profiler session tear down.\n",
      "2022-02-13 11:40:22.527938: I tensorflow/core/profiler/rpc/client/save_profile.cc:137] Creating directory: ./tensorboard/train/plugins/profile/2022_02_13_11_40_22\n",
      "2022-02-13 11:40:22.534672: I tensorflow/core/profiler/rpc/client/save_profile.cc:143] Dumped gzipped tool data for trace.json.gz to ./tensorboard/train/plugins/profile/2022_02_13_11_40_22/Eduardos-MacBook-Air.local.trace.json.gz\n",
      "2022-02-13 11:40:22.547096: I tensorflow/core/profiler/rpc/client/save_profile.cc:137] Creating directory: ./tensorboard/train/plugins/profile/2022_02_13_11_40_22\n",
      "2022-02-13 11:40:22.547238: I tensorflow/core/profiler/rpc/client/save_profile.cc:143] Dumped gzipped tool data for memory_profile.json.gz to ./tensorboard/train/plugins/profile/2022_02_13_11_40_22/Eduardos-MacBook-Air.local.memory_profile.json.gz\n",
      "2022-02-13 11:40:22.548473: I tensorflow/core/profiler/rpc/client/capture_profile.cc:251] Creating directory: ./tensorboard/train/plugins/profile/2022_02_13_11_40_22Dumped tool data for xplane.pb to ./tensorboard/train/plugins/profile/2022_02_13_11_40_22/Eduardos-MacBook-Air.local.xplane.pb\n",
      "Dumped tool data for overview_page.pb to ./tensorboard/train/plugins/profile/2022_02_13_11_40_22/Eduardos-MacBook-Air.local.overview_page.pb\n",
      "Dumped tool data for input_pipeline.pb to ./tensorboard/train/plugins/profile/2022_02_13_11_40_22/Eduardos-MacBook-Air.local.input_pipeline.pb\n",
      "Dumped tool data for tensorflow_stats.pb to ./tensorboard/train/plugins/profile/2022_02_13_11_40_22/Eduardos-MacBook-Air.local.tensorflow_stats.pb\n",
      "Dumped tool data for kernel_stats.pb to ./tensorboard/train/plugins/profile/2022_02_13_11_40_22/Eduardos-MacBook-Air.local.kernel_stats.pb\n",
      "\n"
     ]
    },
    {
     "name": "stdout",
     "output_type": "stream",
     "text": [
      "CPU times: user 11 s, sys: 820 ms, total: 11.8 s\n",
      "Wall time: 9.7 s\n"
     ]
    },
    {
     "data": {
      "text/plain": [
       "<tensorflow.python.keras.callbacks.History at 0x17f0ffd90>"
      ]
     },
     "execution_count": 27,
     "metadata": {},
     "output_type": "execute_result"
    }
   ],
   "source": [
    "%%time\n",
    "model_chik = build_model(12,X_train_chik.shape[2], 4, 4)\n",
    "\n",
    "train('chik', model_chik, X_train_chik, Y_train_chik, batch_size=1, epochs=100, geocode= city, overwrite=True)"
   ]
  },
  {
   "cell_type": "code",
   "execution_count": 28,
   "id": "23d74e36-13fd-475e-87c5-339ef6b9c2e5",
   "metadata": {
    "execution": {
     "iopub.execute_input": "2022-02-13T12:59:36.240737Z",
     "iopub.status.busy": "2022-02-13T12:59:36.240434Z",
     "iopub.status.idle": "2022-02-13T13:00:47.155311Z",
     "shell.execute_reply": "2022-02-13T13:00:47.154056Z",
     "shell.execute_reply.started": "2022-02-13T12:59:36.240699Z"
    },
    "tags": []
   },
   "outputs": [
    {
     "name": "stdout",
     "output_type": "stream",
     "text": [
      "CPU times: user 18.5 s, sys: 523 ms, total: 19 s\n",
      "Wall time: 16.8 s\n"
     ]
    }
   ],
   "source": [
    "%%time\n",
    "model_chik =  keras.models.load_model(f'trained_{city}_model_chik.h5')\n",
    "\n",
    "predicted_in = evaluate(model_chik, X_train_chik, Y_train_chik)\n",
    "predicted_out = evaluate(model_chik, X_pred, Y_pred)\n",
    "\n",
    "predicted = np.concatenate((predicted_in, predicted_out), axis=0)"
   ]
  },
  {
   "cell_type": "code",
   "execution_count": 29,
   "id": "88c5c302-0527-49ba-8c46-fa64eb240c6c",
   "metadata": {
    "execution": {
     "iopub.execute_input": "2022-02-13T13:00:47.156432Z",
     "iopub.status.busy": "2022-02-13T13:00:47.156208Z",
     "iopub.status.idle": "2022-02-13T13:00:47.379926Z",
     "shell.execute_reply": "2022-02-13T13:00:47.379261Z",
     "shell.execute_reply.started": "2022-02-13T13:00:47.156409Z"
    },
    "tags": []
   },
   "outputs": [
    {
     "data": {
      "image/png": "[encoded data removed]",
      "text/plain": [
       "<Figure size 432x288 with 1 Axes>"
      ]
     },
     "metadata": {
      "needs_background": "light"
     },
     "output_type": "display_data"
    }
   ],
   "source": [
    "from matplotlib import pyplot as P\n",
    "indice = list(data_chik.index)\n",
    "indice = [i.date() for i in indice]\n",
    "\n",
    "plot_predicted_vs_data(predicted,np.concatenate((Y_train_chik, Y_pred), axis=0), indice, 'Sobral - chik model', 4, factor_chik, split_point=len(Y_train_chik), uncertainty= True)\n"
   ]
  },
  {
   "cell_type": "code",
   "execution_count": null,
   "id": "b1ede569-2fd2-4d6c-81dd-fb76ffd0bdc4",
   "metadata": {},
   "outputs": [],
   "source": []
  },
  {
   "cell_type": "code",
   "execution_count": null,
   "id": "5acddc90-ea44-4159-b4d9-ad515a9ce854",
   "metadata": {},
   "outputs": [],
   "source": []
  },
  {
   "cell_type": "code",
   "execution_count": null,
   "id": "cab211b4",
   "metadata": {},
   "outputs": [],
   "source": []
  },
  {
   "cell_type": "code",
   "execution_count": null,
   "id": "2fb4c83a",
   "metadata": {},
   "outputs": [],
   "source": []
  },
  {
   "cell_type": "code",
   "execution_count": null,
   "id": "ee614c03",
   "metadata": {},
   "outputs": [],
   "source": []
  },
  {
   "cell_type": "code",
   "execution_count": null,
   "id": "80d15d73",
   "metadata": {},
   "outputs": [],
   "source": []
  },
  {
   "cell_type": "code",
   "execution_count": null,
   "id": "17cf8213",
   "metadata": {},
   "outputs": [],
   "source": []
  },
  {
   "cell_type": "code",
   "execution_count": null,
   "id": "82eb86f9",
   "metadata": {},
   "outputs": [],
   "source": []
  }
 ],
 "metadata": {
  "kernelspec": {
   "display_name": "Python 3 (ipykernel)",
   "language": "python",
   "name": "python3"
  },
  "language_info": {
   "codemirror_mode": {
    "name": "ipython",
    "version": 3
   },
   "file_extension": ".py",
   "mimetype": "text/x-python",
   "name": "python",
   "nbconvert_exporter": "python",
   "pygments_lexer": "ipython3",
   "version": "3.9.10"
  }
 },
 "nbformat": 4,
 "nbformat_minor": 5
}
